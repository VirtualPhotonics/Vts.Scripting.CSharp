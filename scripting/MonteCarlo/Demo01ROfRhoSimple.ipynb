{
 "cells": [
  {
   "cell_type": "code",
   "execution_count": null,
   "metadata": {},
   "outputs": [],
   "source": [
    "#r \"nuget: VirtualPhotonics.Vts\"\n",
    "#r \"nuget: Plotly.NET.CSharp\" \n",
    "#r \"nuget: Plotly.NET.Interactive\""
   ]
  },
  {
   "cell_type": "markdown",
   "metadata": {},
   "source": [
    "Below, we'll reference the software packages and namespaces we'll need:"
   ]
  },
  {
   "cell_type": "code",
   "execution_count": null,
   "metadata": {
    "dotnet_interactive": {
     "language": "csharp"
    },
    "polyglot_notebook": {
     "kernelName": "csharp"
    }
   },
   "outputs": [],
   "source": [
    "using Vts.Common;\n",
    "using Vts.Extensions;\n",
    "using Vts.Modeling.Optimizers;\n",
    "using Vts.Modeling.ForwardSolvers;\n",
    "using Vts.SpectralMapping;\n",
    "using Vts.Factories;\n",
    "using Vts.MonteCarlo;\n",
    "using Vts.MonteCarlo.Sources;\n",
    "using Vts.MonteCarlo.Tissues;\n",
    "using Vts.MonteCarlo.Detectors;\n",
    "using Vts.MonteCarlo.Factories;\n",
    "using Vts.MonteCarlo.PhotonData;\n",
    "using Vts.MonteCarlo.PostProcessing;\n",
    "using System.Numerics;\n",
    "using Plotly.NET.CSharp;\n",
    "using Plotly.NET.LayoutObjects;"
   ]
  },
  {
   "cell_type": "markdown",
   "metadata": {},
   "source": [
    "Below, we'll declare a few helper functions that we'll use later for convenience of aggregating data and plotting:"
   ]
  },
  {
   "cell_type": "code",
   "execution_count": null,
   "metadata": {
    "dotnet_interactive": {
     "language": "csharp"
    },
    "polyglot_notebook": {
     "kernelName": "csharp"
    }
   },
   "outputs": [],
   "source": [
    "static double[] GetMidpoints(this Vts.Common.DoubleRange endpoints)\n",
    "    => endpoints.ToArray().GetMidpoints();\n",
    "\n",
    "// static IEnumerable<T> TakeEveryNth<T>(this IEnumerable<T> values, int n, int skip = 0)\n",
    "//     => values.Where((_, i) => (i - skip) % n == 0);\n",
    "\n",
    "static Plotly.NET.GenericChart.GenericChart ScatterChart(double[] xValues, double[] yValues, string xLabel = \"\", string yLabel = \"\", string title = \"\")\n",
    "    => Chart.Point<double, double, string>(xValues, yValues).WithStandardStyling(xLabel, yLabel, title);\n",
    "\n",
    "static Plotly.NET.GenericChart.GenericChart LineChart(double[] xValues, double[] yValues, string xLabel = \"\", string yLabel = \"\", string title = \"\")\n",
    "    => Chart.Line<double, double, string>(xValues, yValues).WithStandardStyling(xLabel, yLabel, title);\n",
    "\n",
    "static Plotly.NET.GenericChart.GenericChart WithStandardStyling(\n",
    "    this Plotly.NET.GenericChart.GenericChart chart, string xLabel = \"\", string yLabel = \"\", string title = \"\")\n",
    "{\n",
    "    // uses Plotly.NET.CSharp.ChartExtensions (adding Plotly.NET to the using statements above will break this)\n",
    "    return chart\n",
    "        .WithTraceInfo(title, ShowLegend: !string.IsNullOrWhiteSpace(title))\n",
    "        .WithXAxisStyle<double, double, string>(Title: Plotly.NET.Title.init(xLabel))\n",
    "        .WithYAxisStyle<double, double, string>(Title: Plotly.NET.Title.init(yLabel))\n",
    "        .WithLegendStyle(X: 0, Y: 150);\n",
    "}\n",
    "\n",
    "static Plotly.NET.GenericChart.GenericChart Heatmap(\n",
    "    IEnumerable<double[]> values, \n",
    "    double[] x, \n",
    "    double[] y,\n",
    "    string xLabel = \"\",\n",
    "    string yLabel = \"\",\n",
    "    string title = \"\")\n",
    "{\n",
    "    // attn developers: for reference, the following are the type parameters used in the call to Chart2D.Chart.Heatmap:\n",
    "    // Chart2D.Chart.Heatmap<a37: (row format), a38: (fluence value type), a39: X (rho value type), a40: Y (z value type), a41: Text type>(...)\n",
    "    var chart = Plotly.NET.Chart2D.Chart.Heatmap<IEnumerable<double>, double, double, double, string>(\n",
    "        zData: values,\n",
    "        X: x, Y: y,\n",
    "        ReverseScale: false, ReverseYAxis: true,\n",
    "        Transpose: true,\n",
    "        Text: title,\n",
    "        ColorScale: Plotly.NET.StyleParam.Colorscale.Hot\n",
    "    ).WithTraceInfo(title, ShowLegend: !string.IsNullOrWhiteSpace(title))\n",
    "     .WithLegendStyle(X: 0, Y: 150);\n",
    "\n",
    "    //var chartLayout = Plotly.NET.GenericChart.getLayout(chart);\n",
    "    //var yAxis = Plotly.NET.Layout.getLinearAxisById(Plotly.NET.StyleParam.SubPlotId.NewYAxis(1)).Invoke(chartLayout);\n",
    "    //yAxis.SetValue(\"scaleanchor\", Plotly.NET.StyleParam.LinearAxisId.NewX(1));\n",
    "    //chart = Plotly.NET.GenericChartExtensions.WithYAxis(chart, yAxis);\n",
    "\n",
    "    chart = Plotly.NET.GenericChartExtensions\n",
    "        .WithYAxis(chart, LinearAxis.init<IConvertible, IConvertible, IConvertible, IConvertible, double, IConvertible>(\n",
    "            ScaleAnchor: Plotly.NET.StyleParam.LinearAxisId.NewX(1), AxisType: Plotly.NET.StyleParam.AxisType.Linear))\n",
    "        .WithXAxisStyle<double, double, string>(Title: Plotly.NET.Title.init(xLabel), MinMax: new Tuple<double, double>(x[0], x[^1]))\n",
    "        .WithYAxisStyle<double, double, string>(Title: Plotly.NET.Title.init(yLabel), MinMax: new Tuple<double, double>(y[0], y[^1]));\n",
    "\n",
    "    chart = Plotly.NET.GenericChartExtensions\n",
    "        .WithColorbar(chart, title: Plotly.NET.Title.init(title));\n",
    "\n",
    "    return chart;\n",
    "} "
   ]
  },
  {
   "cell_type": "code",
   "execution_count": null,
   "metadata": {
    "dotnet_interactive": {
     "language": "csharp"
    },
    "polyglot_notebook": {
     "kernelName": "csharp"
    }
   },
   "outputs": [],
   "source": [
    "using Vts.Common; // needed again for DoubleRange for some reason\n",
    "// Example 01: run a simple Monte Carlo simulation with 1000 photons.\n",
    "// Notes:\n",
    "//    - default source is a point source beam normally incident at the origin \n",
    "//    - default tissue is a 100mm thick slab with air-tissue boundary and optical properties: mua: 0.01, musp: 1.0, g: 0.8, n:1.4\n",
    "\n",
    "// create a SimulationInput object to define the simulation\n",
    "var detectorRange = new DoubleRange(start: 0, stop: 40, number: 201);\n",
    "var simulationInput = new SimulationInput\n",
    "{\n",
    "    // specify the number of photons to run\n",
    "    N = 1000,\n",
    "\n",
    "    // define a single R(rho) detector by the endpoints of rho bins\n",
    "    DetectorInputs = new List<IDetectorInput> { new ROfRhoDetectorInput { Rho = detectorRange, Name = \"ROfRho\" } }, // name can be whatever you want\n",
    "};\n",
    "\n",
    "// create the simulation\n",
    "var simulation = new MonteCarloSimulation(simulationInput);\n",
    "\n",
    "// run the simulation\n",
    "var simulationOutput = simulation.Run();\n",
    "\n",
    "// plot the results using Plotly.NET\n",
    "var detectorResults = (ROfRhoDetector)simulationOutput.ResultsDictionary[\"ROfRho\"];\n",
    "var logReflectance = detectorResults.Mean.Select(r => Math.Log(r)).ToArray();\n",
    "var (detectorMidpoints, xLabel, yLabel) = (detectorRange.GetMidpoints(), \"ρ [mm]\", \"log(R(ρ)) [mm-2]\");\n",
    "var chart = LineChart(detectorMidpoints, logReflectance, xLabel, yLabel, title: \"log(R(ρ)) [mm-2]\");\n",
    "\n",
    "chart.Show();"
   ]
  },
  {
   "cell_type": "code",
   "execution_count": null,
   "metadata": {},
   "outputs": [],
   "source": []
  }
 ],
 "metadata": {
  "kernelspec": {
   "display_name": ".NET (C#)",
   "language": "C#",
   "name": ".net-csharp"
  },
  "language_info": {
   "file_extension": ".cs",
   "mimetype": "text/x-csharp",
   "name": "C#",
   "pygments_lexer": "csharp",
   "version": "11.0"
  },
  "polyglot_notebook": {
   "kernelInfo": {
    "defaultKernelName": "csharp",
    "items": [
     {
      "aliases": [],
      "languageName": "csharp",
      "name": "csharp"
     }
    ]
   }
  }
 },
 "nbformat": 4,
 "nbformat_minor": 2
}
